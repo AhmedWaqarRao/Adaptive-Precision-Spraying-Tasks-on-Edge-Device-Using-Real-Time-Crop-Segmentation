{
 "cells": [
  {
   "cell_type": "code",
   "execution_count": null,
   "metadata": {},
   "outputs": [],
   "source": [
    "!pip install roboflow\n",
    "\n",
    "from roboflow import Roboflow\n",
    "rf = Roboflow(api_key=\"7WDcRR7o9Dze5mRQltRg\")\n",
    "project = rf.workspace(\"dream-vj9o9\").project(\"tobacco-segmentation-yn65w\")\n",
    "version = project.version(4)\n",
    "dataset = version.download(\"yolov8\")\n",
    "                "
   ]
  },
  {
   "cell_type": "code",
   "execution_count": null,
   "metadata": {},
   "outputs": [],
   "source": [
    "import cv2\n",
    "import numpy as np\n",
    "import matplotlib.pyplot as plt\n",
    "\n",
    "# Define file paths\n",
    "image_path = \"/kaggle/working/tobacco-segmentation-4/train/images/tobacco_0251_jpg.rf.33207206762f99d9705271df0b468791.jpg\"\n",
    "label_path = \"/kaggle/working/tobacco-segmentation-4/train/labels/tobacco_0251_jpg.rf.33207206762f99d9705271df0b468791.txt\"\n",
    "\n",
    "# Read the image\n",
    "image = cv2.imread(image_path)\n",
    "image = cv2.cvtColor(image, cv2.COLOR_BGR2RGB)  # Convert to RGB\n",
    "\n",
    "# Read the label file\n",
    "with open(label_path, \"r\") as f:\n",
    "    lines = f.readlines()\n",
    "\n",
    "height, width, _ = image.shape\n",
    "\n",
    "# Parse segmentation coordinates\n",
    "for line in lines:\n",
    "    parts = line.strip().split()\n",
    "    class_id = int(parts[0])  # First value is the class ID\n",
    "    points = np.array(parts[1:], dtype=np.float32).reshape(-1, 2)\n",
    "\n",
    "    # Convert normalized coordinates to image dimensions\n",
    "    points[:, 0] *= width  # Scale X coordinates\n",
    "    points[:, 1] *= height  # Scale Y coordinates\n",
    "\n",
    "    # Convert to integer format for drawing\n",
    "    points = points.astype(np.int32)\n",
    "\n",
    "    # Draw segmentation\n",
    "    cv2.polylines(image, [points], isClosed=True, color=(255, 0, 0), thickness=2)\n",
    "    # cv2.fillPoly(image, [points], color=(0, 255, 0))  # Transparent fill\n",
    "\n",
    "# Show the image with segmentation\n",
    "plt.figure(figsize=(8, 8))\n",
    "plt.imshow(image)\n",
    "plt.axis(\"off\")\n",
    "plt.show()\n"
   ]
  },
  {
   "cell_type": "code",
   "execution_count": null,
   "metadata": {},
   "outputs": [],
   "source": [
    "import os\n",
    "\n",
    "# Define the content of data.yaml\n",
    "yaml_content = \"\"\"names:\n",
    "  - tobacco\n",
    "nc: 1\n",
    "train: ../train/images\n",
    "val: ../train/images  # Using train set for validation since valid set is missing\n",
    "\"\"\"\n",
    "\n",
    "# Define the path to save data.yaml\n",
    "yaml_path = \"/kaggle/working/tobacco-segmentation-4/data.yaml\"\n",
    "\n",
    "# Create necessary directories if they don't exist\n",
    "os.makedirs(os.path.dirname(yaml_path), exist_ok=True)\n",
    "\n",
    "# Write data.yaml file\n",
    "with open(yaml_path, \"w\") as file:\n",
    "    file.write(yaml_content)\n",
    "\n",
    "print(f\"✅ data.yaml created at {yaml_path}\")\n",
    "\n",
    "\n"
   ]
  },
  {
   "cell_type": "code",
   "execution_count": null,
   "metadata": {},
   "outputs": [],
   "source": [
    "from ultralytics import YOLO\n",
    "import torch\n",
    "\n",
    "# Free up GPU memory\n",
    "torch.cuda.empty_cache()\n",
    "\n",
    "# Use a smaller model to avoid OOM errors\n",
    "model = YOLO(\"yolov8l-seg.pt\")\n",
    "\n",
    "# Train the model with optimized settings and augmentations\n",
    "model.train(\n",
    "    data=\"/kaggle/working/tobacco-segmentation-4/data.yaml\",\n",
    "    epochs=1000,\n",
    "    batch=2,  # 🔥 Lower batch size (try 1 if needed)\n",
    "    imgsz=640,\n",
    "    workers=2,\n",
    "    device=\"cuda\",\n",
    "\n",
    "    # Augmentations for better generalization\n",
    "    hsv_h=0.015,  # Random hue shift\n",
    "    hsv_s=0.7,  # Random saturation shift\n",
    "    hsv_v=0.4,  # Random brightness shift\n",
    "    flipud=0.5,  # Random vertical flip\n",
    "    fliplr=0.5,  # Random horizontal flip\n",
    "    mosaic=1.0,  # Use mosaic augmentation\n",
    "    mixup=0.2,  # Mixup augmentation for blending images\n",
    "    degrees=10,  # Random rotation\n",
    "    translate=0.1,  # Random translation\n",
    "    scale=0.5,  # Random scaling\n",
    "    shear=2,  # Random shearing\n",
    ")\n",
    "\n",
    "print(\"✅ Training started successfully with augmentations!\")\n"
   ]
  },
  {
   "cell_type": "code",
   "execution_count": null,
   "metadata": {},
   "outputs": [],
   "source": [
    "from ultralytics import YOLO\n",
    "\n",
    "# Load the trained model\n",
    "model = YOLO(\"/kaggle/working/runs/segment/train3/weights/best.pt\")  \n",
    "\n",
    "# Run validation\n",
    "results = model.val()\n",
    "\n",
    "# Print mAP score (mAP50 and mAP50-95)\n",
    "print(f\"📊 mAP@50: {results.box.map50:.3f}\")  # mAP@50\n",
    "print(f\"📊 mAP@50-95: {results.box.map:.3f}\")  # mAP@50-95\n"
   ]
  },
  {
   "cell_type": "code",
   "execution_count": null,
   "metadata": {},
   "outputs": [],
   "source": [
    "from ultralytics import YOLO\n",
    "\n",
    "# Load the trained YOLOv8 segmentation model\n",
    "model = YOLO(\"/kaggle/working/runs/segment/train3/weights/last.pt\")  \n",
    "\n",
    "# Run validation\n",
    "results = model.val()\n",
    "\n",
    "# Extract and print segmentation evaluation metrics\n",
    "print(f\"📊 Precision: {results.seg.p.mean():.3f}\")  # Mean Precision\n",
    "print(f\"📊 Recall: {results.seg.r.mean():.3f}\")  # Mean Recall\n",
    "\n",
    "# Show detailed results\n",
    "print(\"\\n🔍 Full results dictionary:\")\n",
    "print(results.results_dict)\n"
   ]
  },
  {
   "cell_type": "code",
   "execution_count": null,
   "metadata": {},
   "outputs": [],
   "source": []
  },
  {
   "cell_type": "code",
   "execution_count": null,
   "metadata": {},
   "outputs": [],
   "source": []
  },
  {
   "cell_type": "code",
   "execution_count": null,
   "metadata": {},
   "outputs": [],
   "source": []
  },
  {
   "cell_type": "code",
   "execution_count": null,
   "metadata": {},
   "outputs": [],
   "source": []
  },
  {
   "cell_type": "code",
   "execution_count": null,
   "metadata": {},
   "outputs": [],
   "source": []
  },
  {
   "cell_type": "code",
   "execution_count": null,
   "metadata": {},
   "outputs": [],
   "source": []
  }
 ],
 "metadata": {
  "kernelspec": {
   "display_name": "Python 3",
   "language": "python",
   "name": "python3"
  },
  "language_info": {
   "name": "python",
   "version": "3.12.6"
  }
 },
 "nbformat": 4,
 "nbformat_minor": 2
}
